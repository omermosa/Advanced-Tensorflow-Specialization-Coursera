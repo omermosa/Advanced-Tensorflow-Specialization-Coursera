{
  "nbformat": 4,
  "nbformat_minor": 0,
  "metadata": {
    "accelerator": "GPU",
    "kernelspec": {
      "display_name": "Python 3",
      "language": "python",
      "name": "python3"
    },
    "language_info": {
      "codemirror_mode": {
        "name": "ipython",
        "version": 3
      },
      "file_extension": ".py",
      "mimetype": "text/x-python",
      "name": "python",
      "nbconvert_exporter": "python",
      "pygments_lexer": "ipython3",
      "version": "3.7.4"
    },
    "colab": {
      "name": " C4W2_Assignment.ipynb",
      "private_outputs": true,
      "provenance": [],
      "collapsed_sections": [],
      "toc_visible": true
    }
  },
  "cells": [
    {
      "cell_type": "markdown",
      "metadata": {
        "id": "L6S2HVAkSt0p"
      },
      "source": [
        "# Week 2 Assignment: CIFAR-10 Autoencoder\n",
        "\n",
        "For this week, you will create a convolutional autoencoder for the [CIFAR10](https://www.tensorflow.org/datasets/catalog/cifar10) dataset. You are free to choose the architecture of your autoencoder provided that the output image has the same dimensions as the input image.\n",
        "\n",
        "After training, your model should meet loss and accuracy requirements when evaluated with the test dataset. You will then download the model and upload it in the classroom for grading. \n",
        "\n",
        "Let's begin!"
      ]
    },
    {
      "cell_type": "markdown",
      "metadata": {
        "id": "6r4iPr2jyisR"
      },
      "source": [
        "***Important:*** *This colab notebook has read-only access so you won't be able to save your changes. If you want to save your work periodically, please click `File -> Save a Copy in Drive` to create a copy in your account, then work from there.*  "
      ]
    },
    {
      "cell_type": "markdown",
      "metadata": {
        "id": "g1mzy2J8_nc1"
      },
      "source": [
        "## Imports"
      ]
    },
    {
      "cell_type": "code",
      "metadata": {
        "id": "3EXwoz-KHtWO"
      },
      "source": [
        "try:\n",
        "  # %tensorflow_version only exists in Colab.\n",
        "  %tensorflow_version 2.x\n",
        "except Exception:\n",
        "  pass\n",
        "\n",
        "import tensorflow as tf\n",
        "import tensorflow_datasets as tfds\n",
        "\n",
        "from keras.models import Sequential"
      ],
      "execution_count": null,
      "outputs": []
    },
    {
      "cell_type": "markdown",
      "metadata": {
        "id": "n2Gs6Lyc_pd0"
      },
      "source": [
        "## Load and prepare the dataset\n",
        "\n",
        "The [CIFAR 10](https://www.tensorflow.org/datasets/catalog/cifar10) dataset already has train and test splits and you can use those in this exercise. Here are the general steps:\n",
        "\n",
        "* Load the train/test split from TFDS. Set `as_supervised` to `True` so it will be convenient to use the preprocessing function we provided.\n",
        "* Normalize the pixel values to the range [0,1], then return `image, image` pairs for training instead of `image, label`. This is because you will check if the output image is successfully regenerated after going through your autoencoder.\n",
        "* Shuffle and batch the train set. Batch the test set (no need to shuffle).\n"
      ]
    },
    {
      "cell_type": "code",
      "metadata": {
        "id": "t9F7YsCNIKSA"
      },
      "source": [
        "# preprocessing function\n",
        "def map_image(image, label):\n",
        "  image = tf.cast(image, dtype=tf.float32)\n",
        "  image = image / 255.0\n",
        "\n",
        "  return image, image # dataset label is not used. replaced with the same image input.\n",
        "\n",
        "# parameters\n",
        "BATCH_SIZE = 128\n",
        "SHUFFLE_BUFFER_SIZE = 1024\n",
        "\n",
        "\n",
        "### START CODE HERE (Replace instances of `None` with your code) ###\n",
        "\n",
        "# use tfds.load() to fetch the 'train' split of CIFAR-10\n",
        "train_dataset = tfds.load('cifar10',split='train',as_supervised=True )\n",
        "\n",
        "# preprocess the dataset with the `map_image()` function above\n",
        "train_dataset = train_dataset.map(map_image)\n",
        "\n",
        "# shuffle and batch the dataset\n",
        "train_dataset = train_dataset.shuffle(SHUFFLE_BUFFER_SIZE).batch(BATCH_SIZE)\n",
        "\n",
        "# use tfds.load() to fetch the 'test' split of CIFAR-10\n",
        "test_dataset = tfds.load('cifar10',split='test',as_supervised=True)\n",
        "\n",
        "# preprocess the dataset with the `map_image()` function above\n",
        "test_dataset = test_dataset.map(map_image)\n",
        "\n",
        "# batch the dataset\n",
        "test_dataset = test_dataset.batch(BATCH_SIZE)\n",
        "\n",
        "### END CODE HERE ###"
      ],
      "execution_count": null,
      "outputs": []
    },
    {
      "cell_type": "markdown",
      "metadata": {
        "id": "rPyOgGJs_t98"
      },
      "source": [
        "## Build the Model\n",
        "\n",
        "Create the autoencoder model. As shown in the lectures, you will want to downsample the image in the encoder layers then upsample it in the decoder path. Note that the output layer should be the same dimensions as the original image. Your input images will have the shape `(32, 32, 3)`. If you deviate from this, your model may not be recognized by the grader and may fail. \n",
        "\n",
        "We included a few hints to use the Sequential API below but feel free to remove it and use the Functional API just like in the ungraded labs if you're more comfortable with it. Another reason to use the latter is if you want to visualize the encoder output. As shown in the ungraded labs, it will be easier to indicate multiple outputs with the Functional API. That is not required for this assignment though so you can just stack layers sequentially if you want a simpler solution."
      ]
    },
    {
      "cell_type": "code",
      "metadata": {
        "id": "FurY_u5fmByj"
      },
      "source": [
        "from keras.layers import Conv2D, UpSampling2D,MaxPool2D\r\n"
      ],
      "execution_count": null,
      "outputs": []
    },
    {
      "cell_type": "code",
      "metadata": {
        "id": "jF26-TJ9mB09"
      },
      "source": [
        "class Autoencoder_Cifar(tf.keras.Model):\r\n",
        "  def __init__(self):\r\n",
        "\r\n",
        "    super(Autoencoder_Cifar,self).__init__()\r\n",
        "    #encoder\r\n",
        "    self.conv2d_1=Conv2D(64,3,activation='relu',padding='same')\r\n",
        "    self.max_pooling_1=MaxPool2D((2,2))\r\n",
        "    self.conv2d_2=Conv2D(128,3,activation='relu',padding='same')\r\n",
        "    self.conv2d_3=Conv2D(256,3,activation='relu',padding='same')\r\n",
        "    self.max_pooling_2=MaxPool2D((2,2))\r\n",
        "\r\n",
        "    #decoder\r\n",
        "    self.conv2d_1_dec=Conv2D(64,3,activation='relu',padding='same')\r\n",
        "    self.conv2d_2_dec=Conv2D(128,3,activation='relu',padding='same')\r\n",
        "\r\n",
        "    self.conv_out=Conv2D(3,3,activation='relu',padding='same')\r\n",
        "\r\n",
        "    self.upsample_1=UpSampling2D((2,2))\r\n",
        "    self.upsample_2=UpSampling2D((2,2))\r\n",
        "\r\n",
        "  \r\n",
        "\r\n",
        "  def encoder(self,inputs):\r\n",
        "    x=self.conv2d_1(inputs)\r\n",
        "    x=self.max_pooling_1(x)\r\n",
        "    x=self.conv2d_2(x)\r\n",
        "    x=self.max_pooling_2(x)\r\n",
        "    out=self.conv2d_3(x)\r\n",
        "    return out\r\n",
        "  \r\n",
        "  def decoder(self,inputs):\r\n",
        "    x=self.conv2d_2_dec(inputs)\r\n",
        "    x=self.upsample_1(x)\r\n",
        "    x=self.conv2d_1_dec(x)\r\n",
        "    x=self.upsample_2(x)\r\n",
        "    out=self.conv_out(x)\r\n",
        "    return out\r\n",
        "\r\n",
        "  def call(self,inputs):\r\n",
        "\r\n",
        "\r\n",
        "    encoder_out=self.encoder(inputs)\r\n",
        "    decoder_out=self.decoder(encoder_out)\r\n",
        "\r\n",
        "    return decoder_out\r\n",
        "\r\n",
        "\r\n",
        "    \r\n"
      ],
      "execution_count": null,
      "outputs": []
    },
    {
      "cell_type": "code",
      "metadata": {
        "id": "CQJzjOeCtTEP"
      },
      "source": [
        "def auto_encoder_model(input_shape):\r\n",
        "  inputs=tf.keras.layers.Input(shape=input_shape)\r\n",
        "\r\n",
        "  x=Conv2D(64,3,activation='relu',padding='same')(inputs)\r\n",
        "  x=MaxPool2D((2,2))(x)\r\n",
        "  x=Conv2D(128,3,activation='relu',padding='same')(x)\r\n",
        "  x=MaxPool2D((2,2))(x)\r\n",
        "  enc_out=Conv2D(256,3,activation='relu',padding='same')(x)\r\n",
        "\r\n",
        "  x=Conv2D(128,3,activation='relu',padding='same')(enc_out)\r\n",
        "  x=UpSampling2D((2,2))(x)\r\n",
        "  x=Conv2D(64,3,activation='relu',padding='same')(x)\r\n",
        "  x=UpSampling2D((2,2))(x)\r\n",
        "  dec_out=Conv2D(3,3,activation='relu',padding='same')(x)\r\n",
        "\r\n",
        "  return tf.keras.Model(inputs,enc_out),tf.keras.Model(inputs,dec_out)\r\n"
      ],
      "execution_count": null,
      "outputs": []
    },
    {
      "cell_type": "code",
      "metadata": {
        "id": "Wr-Bok3lRgA3"
      },
      "source": [
        "# suggested layers to use. feel free to add or remove as you see fit.\n",
        "\n",
        "# use the Sequential API (you can remove if you want to use the Functional API)\n",
        "enc_model,model = auto_encoder_model((32,32,3))\n",
        "### START CODE HERE ###\n",
        "# use `model.add()` to add layers (if using the Sequential API)\n",
        "\n",
        "\n",
        "\n",
        "\n",
        "\n",
        "\n",
        "\n",
        "### END CODE HERE ###\n",
        "model.summary()"
      ],
      "execution_count": null,
      "outputs": []
    },
    {
      "cell_type": "code",
      "metadata": {
        "id": "Uo70vJxDq8dy"
      },
      "source": [
        "model.compile(optimizer='adam', metrics=['accuracy'], loss='mean_squared_error')\r\n"
      ],
      "execution_count": null,
      "outputs": []
    },
    {
      "cell_type": "code",
      "metadata": {
        "id": "zZUZwscds2QD"
      },
      "source": [
        "tf.keras.utils.plot_model(model)"
      ],
      "execution_count": null,
      "outputs": []
    },
    {
      "cell_type": "markdown",
      "metadata": {
        "id": "jRWTAijKEVUC"
      },
      "source": [
        "## Configure training parameters\n",
        "\n",
        "We have already provided the optimizer, metrics, and loss in the code below."
      ]
    },
    {
      "cell_type": "code",
      "metadata": {
        "id": "iHIeD9eDETSk"
      },
      "source": [
        "# Please do not change the model.compile() parameters\n"
      ],
      "execution_count": null,
      "outputs": []
    },
    {
      "cell_type": "markdown",
      "metadata": {
        "id": "tLQPhm1W_8dC"
      },
      "source": [
        "## Training\n",
        "\n",
        "You can now use [model.fit()](https://keras.io/api/models/model_training_apis/#fit-method) to train your model. You will pass in the `train_dataset` and you are free to configure the other parameters. As with any training, you should see the loss generally going down and the accuracy going up with each epoch. If not, please revisit the previous sections to find possible bugs."
      ]
    },
    {
      "cell_type": "code",
      "metadata": {
        "id": "Rts1DSRExIf3"
      },
      "source": [
        "len((train_dataset))"
      ],
      "execution_count": null,
      "outputs": []
    },
    {
      "cell_type": "code",
      "metadata": {
        "id": "AMBimOnsRvg0"
      },
      "source": [
        "# parameters\n",
        "train_steps = len(train_dataset) \n",
        "val_steps = len(test_dataset)\n",
        "\n",
        "early_stopping=tf.keras.callbacks.EarlyStopping(patience=2,monitor='val_loss')\n",
        "### START CODE HERE ###\n",
        "H=model.fit(train_dataset, steps_per_epoch=train_steps, validation_data=test_dataset, validation_steps=val_steps, epochs=40)\n",
        "### END CODE HERE ###"
      ],
      "execution_count": null,
      "outputs": []
    },
    {
      "cell_type": "markdown",
      "metadata": {
        "id": "PT2l1c-SAaF4"
      },
      "source": [
        "## Model evaluation\n",
        "\n",
        "You can use this code to test your model locally before uploading to the grader. To pass, your model needs to satisfy these two requirements:\n",
        "\n",
        "* loss must be less than 0.01 \n",
        "* accuracy must be greater than 0.6"
      ]
    },
    {
      "cell_type": "code",
      "metadata": {
        "id": "vFncgqahSQhA"
      },
      "source": [
        "result = model.evaluate(test_dataset, steps=10)"
      ],
      "execution_count": null,
      "outputs": []
    },
    {
      "cell_type": "code",
      "metadata": {
        "id": "jMN09CTGzWNy"
      },
      "source": [
        "enc_model.summary()"
      ],
      "execution_count": null,
      "outputs": []
    },
    {
      "cell_type": "code",
      "metadata": {
        "id": "jhgSnuUmzbm_"
      },
      "source": [
        "samples = test_dataset.take(1)\r\n",
        "\r\n",
        "# take the input images and put them in a list\r\n",
        "output_samples = []\r\n",
        "for input_image, image in tfds.as_numpy(test_dataset):\r\n",
        "      output_samples = input_image[1:10]\r\n",
        "      break\r\n"
      ],
      "execution_count": null,
      "outputs": []
    },
    {
      "cell_type": "code",
      "metadata": {
        "id": "5dq8lX21z2fg"
      },
      "source": [
        "len(output_samples)"
      ],
      "execution_count": null,
      "outputs": []
    },
    {
      "cell_type": "code",
      "metadata": {
        "id": "h6cmKxgxzDmE"
      },
      "source": [
        "def display_one_row(disp_images, offset, shape=(28, 28)):\r\n",
        "  '''Display sample outputs in one row.'''\r\n",
        "  for idx, test_image in enumerate(disp_images):\r\n",
        "    plt.subplot(3, 10, offset + idx + 1)\r\n",
        "    plt.xticks([])\r\n",
        "    plt.yticks([])\r\n",
        "    test_image = np.reshape(test_image, shape)\r\n",
        "    plt.imshow(test_image, cmap='gray')\r\n",
        "\r\n",
        "\r\n",
        "def display_results(disp_input_images, disp_encoded, disp_predicted, enc_shape=(8,4)):\r\n",
        "  '''Displays the input, encoded, and decoded output values.'''\r\n",
        "  plt.figure(figsize=(15, 5))\r\n",
        "  display_one_row(disp_input_images, 0, shape=(32,32,3))\r\n",
        "  display_one_row(disp_predicted, 20, shape=(32,32,3))"
      ],
      "execution_count": null,
      "outputs": []
    },
    {
      "cell_type": "code",
      "metadata": {
        "id": "isFJeXuw0K-Y"
      },
      "source": [
        "import matplotlib.pyplot as plt\r\n",
        "import numpy as np"
      ],
      "execution_count": null,
      "outputs": []
    },
    {
      "cell_type": "code",
      "metadata": {
        "id": "znYeb0ESzLKE"
      },
      "source": [
        "display_results(output_samples,enc_model(output_samples),model(output_samples))"
      ],
      "execution_count": null,
      "outputs": []
    },
    {
      "cell_type": "markdown",
      "metadata": {
        "id": "di6VOHGwIsVM"
      },
      "source": [
        "If you did some visualization like in the ungraded labs, then you might see something like the gallery below. This part is not required."
      ]
    },
    {
      "cell_type": "markdown",
      "metadata": {
        "id": "wmpI4skkIA5L"
      },
      "source": [
        "<img src=\"https://drive.google.com/uc?export=view&id=12Fy-guiP-3tTPfc9IV2nHhqLvs7LwRo6\" width=\"75%\" height=\"75%\"/>"
      ]
    },
    {
      "cell_type": "markdown",
      "metadata": {
        "id": "uaRSkQPNAPT0"
      },
      "source": [
        "## Save your model\n",
        "\n",
        "Once you are satisfied with the results, you can now save your model. Please download it from the Files window on the left and go back to the Submission portal in Coursera for grading."
      ]
    },
    {
      "cell_type": "code",
      "metadata": {
        "id": "pLFpLP-c7rDR"
      },
      "source": [
        "model.save('mymodel.h5')"
      ],
      "execution_count": null,
      "outputs": []
    },
    {
      "cell_type": "markdown",
      "metadata": {
        "id": "QArMiXJTDxDe"
      },
      "source": [
        "**Congratulations on completing this week's assignment!**"
      ]
    }
  ]
}